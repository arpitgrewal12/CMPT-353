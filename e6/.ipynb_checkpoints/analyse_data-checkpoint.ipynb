{
 "cells": [
  {
   "cell_type": "code",
   "execution_count": 14,
   "metadata": {},
   "outputs": [],
   "source": [
    "import pandas as pd\n",
    "import numpy as np\n",
    "import sys\n",
    "from scipy import stats\n",
    "from statsmodels.stats.multicomp import pairwise_tukeyhsd\n",
    "import matplotlib.pyplot as plt"
   ]
  },
  {
   "cell_type": "code",
   "execution_count": 4,
   "metadata": {},
   "outputs": [],
   "source": [
    "#data = sys.argv[1]\n",
    "df = pd.read_csv(\"data.csv\")"
   ]
  },
  {
   "cell_type": "code",
   "execution_count": 6,
   "metadata": {},
   "outputs": [],
   "source": [
    "#From lecture notes\n",
    "#ANalysis Of VAriance(ANOVA)\n",
    "x1=df['qs1']\n",
    "x2=df['qs2']\n",
    "x3=df['qs3']\n",
    "x4=df['qs4']\n",
    "x5=df['qs5']\n",
    "x6=df['merge1']\n",
    "x7=df['partition_sort']\n",
    "anova=stats.f_oneway(x1,x2,x3,x4,x5,x6,x7)"
   ]
  },
  {
   "cell_type": "code",
   "execution_count": 9,
   "metadata": {},
   "outputs": [
    {
     "name": "stdout",
     "output_type": "stream",
     "text": [
      "F_onewayResult(statistic=892.9214191565156, pvalue=1.901046406145098e-269)\n"
     ]
    }
   ],
   "source": [
    "print(anova)"
   ]
  },
  {
   "cell_type": "code",
   "execution_count": 10,
   "metadata": {},
   "outputs": [
    {
     "name": "stdout",
     "output_type": "stream",
     "text": [
      "1.901046406145098e-269\n"
     ]
    }
   ],
   "source": [
    "print(anova.pvalue)"
   ]
  },
  {
   "cell_type": "code",
   "execution_count": 12,
   "metadata": {},
   "outputs": [
    {
     "data": {
      "text/html": [
       "<div>\n",
       "<style scoped>\n",
       "    .dataframe tbody tr th:only-of-type {\n",
       "        vertical-align: middle;\n",
       "    }\n",
       "\n",
       "    .dataframe tbody tr th {\n",
       "        vertical-align: top;\n",
       "    }\n",
       "\n",
       "    .dataframe thead th {\n",
       "        text-align: right;\n",
       "    }\n",
       "</style>\n",
       "<table border=\"1\" class=\"dataframe\">\n",
       "  <thead>\n",
       "    <tr style=\"text-align: right;\">\n",
       "      <th></th>\n",
       "      <th>variable</th>\n",
       "      <th>value</th>\n",
       "    </tr>\n",
       "  </thead>\n",
       "  <tbody>\n",
       "    <tr>\n",
       "      <th>0</th>\n",
       "      <td>qs1</td>\n",
       "      <td>0.005019</td>\n",
       "    </tr>\n",
       "    <tr>\n",
       "      <th>1</th>\n",
       "      <td>qs1</td>\n",
       "      <td>0.004716</td>\n",
       "    </tr>\n",
       "    <tr>\n",
       "      <th>2</th>\n",
       "      <td>qs1</td>\n",
       "      <td>0.004963</td>\n",
       "    </tr>\n",
       "    <tr>\n",
       "      <th>3</th>\n",
       "      <td>qs1</td>\n",
       "      <td>0.004447</td>\n",
       "    </tr>\n",
       "    <tr>\n",
       "      <th>4</th>\n",
       "      <td>qs1</td>\n",
       "      <td>0.004052</td>\n",
       "    </tr>\n",
       "    <tr>\n",
       "      <th>...</th>\n",
       "      <td>...</td>\n",
       "      <td>...</td>\n",
       "    </tr>\n",
       "    <tr>\n",
       "      <th>520</th>\n",
       "      <td>partition_sort</td>\n",
       "      <td>0.003162</td>\n",
       "    </tr>\n",
       "    <tr>\n",
       "      <th>521</th>\n",
       "      <td>partition_sort</td>\n",
       "      <td>0.002732</td>\n",
       "    </tr>\n",
       "    <tr>\n",
       "      <th>522</th>\n",
       "      <td>partition_sort</td>\n",
       "      <td>0.003097</td>\n",
       "    </tr>\n",
       "    <tr>\n",
       "      <th>523</th>\n",
       "      <td>partition_sort</td>\n",
       "      <td>0.003001</td>\n",
       "    </tr>\n",
       "    <tr>\n",
       "      <th>524</th>\n",
       "      <td>partition_sort</td>\n",
       "      <td>0.002780</td>\n",
       "    </tr>\n",
       "  </tbody>\n",
       "</table>\n",
       "<p>525 rows × 2 columns</p>\n",
       "</div>"
      ],
      "text/plain": [
       "           variable     value\n",
       "0               qs1  0.005019\n",
       "1               qs1  0.004716\n",
       "2               qs1  0.004963\n",
       "3               qs1  0.004447\n",
       "4               qs1  0.004052\n",
       "..              ...       ...\n",
       "520  partition_sort  0.003162\n",
       "521  partition_sort  0.002732\n",
       "522  partition_sort  0.003097\n",
       "523  partition_sort  0.003001\n",
       "524  partition_sort  0.002780\n",
       "\n",
       "[525 rows x 2 columns]"
      ]
     },
     "execution_count": 12,
     "metadata": {},
     "output_type": "execute_result"
    }
   ],
   "source": [
    "#Post Hoc Analysis\n",
    "#From lecture notes\n",
    "melt_df=pd.melt(df)\n",
    "melt_df"
   ]
  },
  {
   "cell_type": "code",
   "execution_count": 15,
   "metadata": {},
   "outputs": [],
   "source": [
    "posthoc=pairwise_tukeyhsd(melt_df['value'],melt_df['variable'],alpha=0.05)"
   ]
  },
  {
   "cell_type": "code",
   "execution_count": 16,
   "metadata": {},
   "outputs": [
    {
     "name": "stdout",
     "output_type": "stream",
     "text": [
      "        Multiple Comparison of Means - Tukey HSD, FWER=0.05         \n",
      "====================================================================\n",
      "    group1         group2     meandiff p-adj   lower   upper  reject\n",
      "--------------------------------------------------------------------\n",
      "        merge1 partition_sort  -0.0027  0.001 -0.0029 -0.0026   True\n",
      "        merge1            qs1  -0.0018  0.001 -0.0019 -0.0016   True\n",
      "        merge1            qs2  -0.0002 0.0048 -0.0003    -0.0   True\n",
      "        merge1            qs3  -0.0002  0.001 -0.0004 -0.0001   True\n",
      "        merge1            qs4  -0.0001    0.9 -0.0002  0.0001  False\n",
      "        merge1            qs5  -0.0001 0.5156 -0.0002  0.0001  False\n",
      "partition_sort            qs1   0.0009  0.001  0.0008  0.0011   True\n",
      "partition_sort            qs2   0.0025  0.001  0.0024  0.0027   True\n",
      "partition_sort            qs3   0.0025  0.001  0.0024  0.0027   True\n",
      "partition_sort            qs4   0.0027  0.001  0.0025  0.0028   True\n",
      "partition_sort            qs5   0.0026  0.001  0.0025  0.0028   True\n",
      "           qs1            qs2   0.0016  0.001  0.0014  0.0018   True\n",
      "           qs1            qs3   0.0016  0.001  0.0014  0.0017   True\n",
      "           qs1            qs4   0.0017  0.001  0.0016  0.0019   True\n",
      "           qs1            qs5   0.0017  0.001  0.0015  0.0018   True\n",
      "           qs2            qs3     -0.0    0.9 -0.0002  0.0001  False\n",
      "           qs2            qs4   0.0001 0.1002    -0.0  0.0003  False\n",
      "           qs2            qs5   0.0001 0.5226 -0.0001  0.0002  False\n",
      "           qs3            qs4   0.0002 0.0191     0.0  0.0003   True\n",
      "           qs3            qs5   0.0001 0.1961    -0.0  0.0003  False\n",
      "           qs4            qs5     -0.0    0.9 -0.0002  0.0001  False\n",
      "--------------------------------------------------------------------\n"
     ]
    }
   ],
   "source": [
    "print(posthoc)"
   ]
  },
  {
   "cell_type": "code",
   "execution_count": 18,
   "metadata": {},
   "outputs": [
    {
     "data": {
      "image/png": "[encoded data removed]",
      "text/plain": [
       "<Figure size 720x432 with 1 Axes>"
      ]
     },
     "metadata": {
      "needs_background": "light"
     },
     "output_type": "display_data"
    }
   ],
   "source": [
    "fig=posthoc.plot_simultaneous()\n",
    "plt.show()"
   ]
  },
  {
   "cell_type": "code",
   "execution_count": 19,
   "metadata": {},
   "outputs": [
    {
     "name": "stdout",
     "output_type": "stream",
     "text": [
      "qs1               0.003883\n",
      "qs2               0.005483\n",
      "qs3               0.005453\n",
      "qs4               0.005621\n",
      "qs5               0.005577\n",
      "merge1            0.005671\n",
      "partition_sort    0.002947\n",
      "dtype: float64\n"
     ]
    }
   ],
   "source": [
    "#So, merge1,partition_sort have different means\n",
    "#partition_sort and qs1 have different means\n",
    "#qs1 and qs2 have different means\n",
    "#merge1 and qs1 have different means\n",
    "# and so on\n",
    "print(df.mean())"
   ]
  },
  {
   "cell_type": "code",
   "execution_count": null,
   "metadata": {},
   "outputs": [],
   "source": []
  }
 ],
 "metadata": {
  "kernelspec": {
   "display_name": "Python 3",
   "language": "python",
   "name": "python3"
  },
  "language_info": {
   "codemirror_mode": {
    "name": "ipython",
    "version": 3
   },
   "file_extension": ".py",
   "mimetype": "text/x-python",
   "name": "python",
   "nbconvert_exporter": "python",
   "pygments_lexer": "ipython3",
   "version": "3.8.3"
  }
 },
 "nbformat": 4,
 "nbformat_minor": 4
}

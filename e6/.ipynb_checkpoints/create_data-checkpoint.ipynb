{
 "cells": [
  {
   "cell_type": "code",
   "execution_count": 1,
   "metadata": {},
   "outputs": [],
   "source": [
    "import numpy as np\n",
    "import pandas as pd\n",
    "import sys\n",
    "import time\n",
    "from implementations import all_implementations"
   ]
  },
  {
   "cell_type": "code",
   "execution_count": 2,
   "metadata": {},
   "outputs": [],
   "source": [
    "#Initializing an empty data frame to store values later on\n",
    "dataframe= pd.DataFrame()"
   ]
  },
  {
   "cell_type": "code",
   "execution_count": 16,
   "metadata": {},
   "outputs": [],
   "source": [
    "\n",
    "for sort in all_implementations:\n",
    "    array = np.empty(75, dtype=float)\n",
    "    #print(random_array)\n",
    "    for i in range(75):\n",
    "        lowest_integer=10000\n",
    "        highest_integer=11001\n",
    "        number_of_random_integers=1001\n",
    "        random_array = np.random.randint(-300, 700,1000)\n",
    "        st = time.time()\n",
    "        res = sort(random_array)\n",
    "        en = time.time()\n",
    "        total=en-st\n",
    "        #print(total)\n",
    "        array[i]=total\n",
    "        #print(values[i])\n",
    "        name_of_sort = sort.__name__\n",
    "    dataframe[name_of_sort] = array\n",
    "  \n"
   ]
  },
  {
   "cell_type": "code",
   "execution_count": 17,
   "metadata": {
    "scrolled": true
   },
   "outputs": [],
   "source": [
    "\n",
    "dataframe.to_csv('data.csv', index=False)"
   ]
  },
  {
   "cell_type": "code",
   "execution_count": 18,
   "metadata": {},
   "outputs": [
    {
     "name": "stdout",
     "output_type": "stream",
     "text": [
      "         qs1       qs2       qs3       qs4       qs5    merge1  partition_sort\n",
      "0   0.007278  0.005714  0.005505  0.005421  0.005630  0.005475        0.002701\n",
      "1   0.005433  0.005257  0.006099  0.005680  0.005217  0.005499        0.002679\n",
      "2   0.006828  0.005616  0.007150  0.005160  0.005518  0.005581        0.002669\n",
      "3   0.004294  0.006503  0.005863  0.005652  0.005481  0.005469        0.002686\n",
      "4   0.004836  0.006832  0.005731  0.005092  0.005392  0.005697        0.002681\n",
      "..       ...       ...       ...       ...       ...       ...             ...\n",
      "70  0.003910  0.005348  0.005709  0.005565  0.005344  0.005544        0.002754\n",
      "71  0.003497  0.005365  0.005900  0.004999  0.005572  0.005573        0.002672\n",
      "72  0.003783  0.005344  0.005569  0.005361  0.005409  0.005474        0.002684\n",
      "73  0.003600  0.005558  0.005539  0.004930  0.005398  0.005582        0.002677\n",
      "74  0.003675  0.006429  0.005426  0.005123  0.005284  0.005533        0.002676\n",
      "\n",
      "[75 rows x 7 columns]\n"
     ]
    }
   ],
   "source": [
    "print(dataframe)"
   ]
  },
  {
   "cell_type": "code",
   "execution_count": null,
   "metadata": {},
   "outputs": [],
   "source": []
  },
  {
   "cell_type": "code",
   "execution_count": null,
   "metadata": {},
   "outputs": [],
   "source": []
  }
 ],
 "metadata": {
  "kernelspec": {
   "display_name": "Python 3",
   "language": "python",
   "name": "python3"
  },
  "language_info": {
   "codemirror_mode": {
    "name": "ipython",
    "version": 3
   },
   "file_extension": ".py",
   "mimetype": "text/x-python",
   "name": "python",
   "nbconvert_exporter": "python",
   "pygments_lexer": "ipython3",
   "version": "3.8.3"
  }
 },
 "nbformat": 4,
 "nbformat_minor": 4
}

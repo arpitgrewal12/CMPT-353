{
 "cells": [
  {
   "cell_type": "code",
   "execution_count": 1,
   "metadata": {},
   "outputs": [],
   "source": [
    "import numpy as np\n",
    "import pandas as pd\n",
    "import sys\n",
    "import matplotlib as plt\n",
    "import json\n",
    "import scipy.stats as stats"
   ]
  },
  {
   "cell_type": "code",
   "execution_count": 2,
   "metadata": {},
   "outputs": [],
   "source": [
    "#searchdata_file = sys.argv[1]"
   ]
  },
  {
   "cell_type": "code",
   "execution_count": 3,
   "metadata": {},
   "outputs": [],
   "source": [
    "df=pd.read_json('searches.json', orient='records', keep_default_dates=True, precise_float=False, date_unit=None, encoding=None, lines=True, chunksize=None, compression='infer')"
   ]
  },
  {
   "cell_type": "code",
   "execution_count": 4,
   "metadata": {},
   "outputs": [],
   "source": [
    "#data_list = np.array(df)"
   ]
  },
  {
   "cell_type": "code",
   "execution_count": 5,
   "metadata": {},
   "outputs": [
    {
     "data": {
      "text/html": [
       "<div>\n",
       "<style scoped>\n",
       "    .dataframe tbody tr th:only-of-type {\n",
       "        vertical-align: middle;\n",
       "    }\n",
       "\n",
       "    .dataframe tbody tr th {\n",
       "        vertical-align: top;\n",
       "    }\n",
       "\n",
       "    .dataframe thead th {\n",
       "        text-align: right;\n",
       "    }\n",
       "</style>\n",
       "<table border=\"1\" class=\"dataframe\">\n",
       "  <thead>\n",
       "    <tr style=\"text-align: right;\">\n",
       "      <th></th>\n",
       "      <th>uid</th>\n",
       "      <th>is_instructor</th>\n",
       "      <th>login_count</th>\n",
       "      <th>search_count</th>\n",
       "    </tr>\n",
       "  </thead>\n",
       "  <tbody>\n",
       "    <tr>\n",
       "      <th>0</th>\n",
       "      <td>6061521</td>\n",
       "      <td>True</td>\n",
       "      <td>1</td>\n",
       "      <td>2</td>\n",
       "    </tr>\n",
       "    <tr>\n",
       "      <th>1</th>\n",
       "      <td>11986457</td>\n",
       "      <td>False</td>\n",
       "      <td>4</td>\n",
       "      <td>0</td>\n",
       "    </tr>\n",
       "    <tr>\n",
       "      <th>2</th>\n",
       "      <td>15995765</td>\n",
       "      <td>False</td>\n",
       "      <td>1</td>\n",
       "      <td>0</td>\n",
       "    </tr>\n",
       "    <tr>\n",
       "      <th>3</th>\n",
       "      <td>9106912</td>\n",
       "      <td>True</td>\n",
       "      <td>3</td>\n",
       "      <td>0</td>\n",
       "    </tr>\n",
       "    <tr>\n",
       "      <th>4</th>\n",
       "      <td>9882383</td>\n",
       "      <td>False</td>\n",
       "      <td>1</td>\n",
       "      <td>0</td>\n",
       "    </tr>\n",
       "    <tr>\n",
       "      <th>...</th>\n",
       "      <td>...</td>\n",
       "      <td>...</td>\n",
       "      <td>...</td>\n",
       "      <td>...</td>\n",
       "    </tr>\n",
       "    <tr>\n",
       "      <th>676</th>\n",
       "      <td>16768212</td>\n",
       "      <td>False</td>\n",
       "      <td>2</td>\n",
       "      <td>0</td>\n",
       "    </tr>\n",
       "    <tr>\n",
       "      <th>677</th>\n",
       "      <td>7643715</td>\n",
       "      <td>True</td>\n",
       "      <td>1</td>\n",
       "      <td>0</td>\n",
       "    </tr>\n",
       "    <tr>\n",
       "      <th>678</th>\n",
       "      <td>14838641</td>\n",
       "      <td>False</td>\n",
       "      <td>1</td>\n",
       "      <td>0</td>\n",
       "    </tr>\n",
       "    <tr>\n",
       "      <th>679</th>\n",
       "      <td>6454817</td>\n",
       "      <td>False</td>\n",
       "      <td>2</td>\n",
       "      <td>0</td>\n",
       "    </tr>\n",
       "    <tr>\n",
       "      <th>680</th>\n",
       "      <td>9276990</td>\n",
       "      <td>False</td>\n",
       "      <td>2</td>\n",
       "      <td>3</td>\n",
       "    </tr>\n",
       "  </tbody>\n",
       "</table>\n",
       "<p>681 rows × 4 columns</p>\n",
       "</div>"
      ],
      "text/plain": [
       "          uid  is_instructor  login_count  search_count\n",
       "0     6061521           True            1             2\n",
       "1    11986457          False            4             0\n",
       "2    15995765          False            1             0\n",
       "3     9106912           True            3             0\n",
       "4     9882383          False            1             0\n",
       "..        ...            ...          ...           ...\n",
       "676  16768212          False            2             0\n",
       "677   7643715           True            1             0\n",
       "678  14838641          False            1             0\n",
       "679   6454817          False            2             0\n",
       "680   9276990          False            2             3\n",
       "\n",
       "[681 rows x 4 columns]"
      ]
     },
     "execution_count": 5,
     "metadata": {},
     "output_type": "execute_result"
    }
   ],
   "source": [
    "df"
   ]
  },
  {
   "cell_type": "code",
   "execution_count": 6,
   "metadata": {},
   "outputs": [],
   "source": [
    "odd_uid=df[df['uid']%2!= 0] #Odd Uids\n",
    "even_uid=df[df['uid']%2==0] #Even Uids"
   ]
  },
  {
   "cell_type": "code",
   "execution_count": 7,
   "metadata": {},
   "outputs": [],
   "source": [
    "#odd_uid"
   ]
  },
  {
   "cell_type": "code",
   "execution_count": 8,
   "metadata": {},
   "outputs": [],
   "source": [
    "#even_uid"
   ]
  },
  {
   "cell_type": "code",
   "execution_count": 9,
   "metadata": {},
   "outputs": [],
   "source": [
    "odd_searched_atleast_once=odd_uid.loc[odd_uid['search_count']>=1]\n",
    "rows_odd_atleat_once = odd_searched_atleast_once.shape[0] \n",
    "#rows_odd_atleat_once"
   ]
  },
  {
   "cell_type": "code",
   "execution_count": 10,
   "metadata": {},
   "outputs": [],
   "source": [
    "odd_never_searched=odd_uid[odd_uid['search_count']<1]\n",
    "rows_odd_never = odd_never_searched.shape[0] \n",
    "#rows_odd_never\n",
    "even_searched_atleast_once=even_uid[even_uid['search_count']>=1]\n",
    "rows_even_atleat_once = even_searched_atleast_once.shape[0] \n",
    "even_never_searched=even_uid[even_uid['search_count']<1]\n",
    "rows_even_never = even_never_searched.shape[0] "
   ]
  },
  {
   "cell_type": "code",
   "execution_count": 11,
   "metadata": {},
   "outputs": [],
   "source": [
    "#rows_even_atleat_once"
   ]
  },
  {
   "cell_type": "code",
   "execution_count": 12,
   "metadata": {},
   "outputs": [],
   "source": [
    "#rows_even_never"
   ]
  },
  {
   "cell_type": "code",
   "execution_count": 13,
   "metadata": {},
   "outputs": [],
   "source": [
    "data_crosstab = [[rows_odd_atleat_once , rows_odd_never],  \n",
    "                             [rows_even_atleat_once , rows_even_never]]\n",
    "contingency_table=pd.DataFrame(data_crosstab,index=['odd uid ' ,'even uid'],\n",
    "                              columns=['Searched atleast once','Searched never'])\n",
    "\n",
    "#contingency_table"
   ]
  },
  {
   "cell_type": "code",
   "execution_count": 14,
   "metadata": {},
   "outputs": [],
   "source": [
    "chi, p, dof, ex = stats.chi2_contingency(contingency_table)"
   ]
  },
  {
   "cell_type": "code",
   "execution_count": 15,
   "metadata": {},
   "outputs": [
    {
     "data": {
      "text/plain": [
       "array([[106.80176211, 241.19823789],\n",
       "       [102.19823789, 230.80176211]])"
      ]
     },
     "execution_count": 15,
     "metadata": {},
     "output_type": "execute_result"
    }
   ],
   "source": [
    "ex"
   ]
  },
  {
   "cell_type": "code",
   "execution_count": 16,
   "metadata": {},
   "outputs": [],
   "source": [
    "odd_is_instructor=odd_uid[odd_uid['is_instructor']==True] #Instructor Uids\n",
    "even_is_instructor=even_uid[even_uid['is_instructor']==True]\n"
   ]
  },
  {
   "cell_type": "code",
   "execution_count": 17,
   "metadata": {},
   "outputs": [],
   "source": [
    "rows_odd_ins_nonzero_search=odd_is_instructor[odd_is_instructor['search_count']>=1]\n",
    "rows_odd_ins_zero_search=odd_is_instructor[odd_is_instructor['search_count']<1]\n",
    "rows_even_ins_nonzero_search=even_is_instructor[even_is_instructor['search_count']>=1]\n",
    "rows_even_ins_zero_search=even_is_instructor[even_is_instructor['search_count']<1]"
   ]
  },
  {
   "cell_type": "code",
   "execution_count": 18,
   "metadata": {},
   "outputs": [],
   "source": [
    "num_rows_odd_ins_nonzero_search=rows_odd_ins_nonzero_search.shape[0]\n",
    "num_rows_odd_ins_zero_search=rows_odd_ins_zero_search.shape[0]\n",
    "num_rows_even_ins_nonzero_search=rows_even_ins_nonzero_search.shape[0]\n",
    "num_rows_even_ins_zero_search=rows_even_ins_zero_search.shape[0]"
   ]
  },
  {
   "cell_type": "code",
   "execution_count": 22,
   "metadata": {},
   "outputs": [],
   "source": [
    "data_crosstab_ins= [num_rows_odd_ins_nonzero_search,num_rows_odd_ins_zero_search],[num_rows_even_ins_nonzero_search,num_rows_even_ins_zero_search]\n",
    "contingency_table_ins=pd.DataFrame(data_crosstab_ins,index=['odd_Is_instructor ','even_Is_instructor'],\n",
    "                                   columns=['Searched atleast once','Searched never'])\n",
    "#contingency_table_ins"
   ]
  },
  {
   "cell_type": "code",
   "execution_count": 25,
   "metadata": {},
   "outputs": [],
   "source": [
    "chi_ins, p_ins, dof_ins, ins = stats.chi2_contingency(contingency_table_ins)"
   ]
  },
  {
   "cell_type": "code",
   "execution_count": 27,
   "metadata": {},
   "outputs": [
    {
     "data": {
      "text/plain": [
       "0.052001632770999166"
      ]
     },
     "execution_count": 27,
     "metadata": {},
     "output_type": "execute_result"
    }
   ],
   "source": [
    "#p_ins"
   ]
  },
  {
   "cell_type": "code",
   "execution_count": null,
   "metadata": {},
   "outputs": [],
   "source": []
  },
  {
   "cell_type": "code",
   "execution_count": null,
   "metadata": {},
   "outputs": [],
   "source": []
  }
 ],
 "metadata": {
  "kernelspec": {
   "display_name": "Python 3",
   "language": "python",
   "name": "python3"
  },
  "language_info": {
   "codemirror_mode": {
    "name": "ipython",
    "version": 3
   },
   "file_extension": ".py",
   "mimetype": "text/x-python",
   "name": "python",
   "nbconvert_exporter": "python",
   "pygments_lexer": "ipython3",
   "version": "3.8.3"
  }
 },
 "nbformat": 4,
 "nbformat_minor": 4
}

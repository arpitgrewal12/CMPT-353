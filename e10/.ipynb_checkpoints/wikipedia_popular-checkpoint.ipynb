{
 "cells": [
  {
   "cell_type": "code",
   "execution_count": null,
   "metadata": {},
   "outputs": [],
   "source": [
    "import sys\n",
    "from pyspark.sql import SparkSession, functions, types\n",
    "\n",
    "spark = SparkSession.builder.appName('reddit averages').getOrCreate()\n",
    "spark.sparkContext.setLogLevel('WARN')\n",
    "\n",
    "assert sys.version_info >= (3, 5) # make sure we have Python 3.5+\n",
    "assert spark.version >= '2.3' # make sure we have Spark 2.3+\n",
    "\n",
    "\n",
    "wiki_schema = types.StructType([\n",
    "    types.StructField('language', types.StringType(), False),\n",
    "    types.StructField('name_of_page', types.StringType(), False),\n",
    "    types.StructField('number_of_views', types.LongType(), False),\n",
    "    types.StructField('bytes', types.LongType(), False),\n",
    "])\n",
    "\n",
    "def format_string(path):\n",
    "    x=re.search(\"([0-9]{8}-[0-9]{2})\", path).group(1)\n",
    "    return x\n",
    "\n",
    "\n",
    "def main(in_directory, output):\n",
    "    file_data= spark.read.csv(in_directory, schema=wiki_schema, sep=' ').withColumn('filename', functions.input_file_name())\n",
    "    \n",
    "    file_data = file_data.filter(file_data['language'] == 'en')\n",
    "    file_data = file_data.filter(file_data['name_of_page']!='Main_Page')\n",
    "    file_data = file_data.filter(~file_data.name_of_page.startswith(\"Special:\"))\n",
    "    \n",
    "\n",
    "    file_data = file_data.withColumn('date', path_to_hour(file_data['filename']))\n",
    "    file_data = file_data.drop('language', 'bytes', 'filename')\n",
    "\n",
    "    max_view = file_data.groupby('date').agg(functions.max(file_data['number_of_views'].alias('number_of_views')))\n",
    "    max_view.cache()\n",
    "    \n",
    "    file_data = max_view.join(file_data, ['number_of_views', 'date'])\n",
    "\n",
    "    joined_data = file_data.sort('date', 'name_of_page')\n",
    "    joined_data.write.csv(output, mode='overwrite')\n",
    "    output.show()\n",
    "\n",
    "\n",
    "if __name__=='__main__':\n",
    "    in_directory = sys.argv[1]\n",
    "    out_directory = sys.argv[2]\n",
    "    main(in_directory, out_directory)\n",
    "\n"
   ]
  }
 ],
 "metadata": {
  "kernelspec": {
   "display_name": "Python 3",
   "language": "python",
   "name": "python3"
  },
  "language_info": {
   "codemirror_mode": {
    "name": "ipython",
    "version": 3
   },
   "file_extension": ".py",
   "mimetype": "text/x-python",
   "name": "python",
   "nbconvert_exporter": "python",
   "pygments_lexer": "ipython3",
   "version": "3.8.3"
  }
 },
 "nbformat": 4,
 "nbformat_minor": 4
}

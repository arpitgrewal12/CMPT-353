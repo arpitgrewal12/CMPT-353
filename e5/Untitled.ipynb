{
 "cells": [
  {
   "cell_type": "code",
   "execution_count": 2,
   "metadata": {},
   "outputs": [],
   "source": [
    "import numpy as np\n",
    "import pandas as pd\n",
    "import matplotlib.pyplot as plt\n",
    "import datetime\n",
    "import sys\n",
    "import scipy.stats as stats\n"
   ]
  },
  {
   "cell_type": "code",
   "execution_count": 3,
   "metadata": {},
   "outputs": [],
   "source": [
    "counts=pd.read_json('reddit-counts.json.gz',lines=True)"
   ]
  },
  {
   "cell_type": "code",
   "execution_count": 4,
   "metadata": {},
   "outputs": [],
   "source": [
    "#counts"
   ]
  },
  {
   "cell_type": "code",
   "execution_count": 5,
   "metadata": {},
   "outputs": [],
   "source": [
    "counts['year'] = pd.DatetimeIndex(counts['date']).year\n",
    "#counts"
   ]
  },
  {
   "cell_type": "code",
   "execution_count": 6,
   "metadata": {},
   "outputs": [],
   "source": [
    "counts =(counts[counts['subreddit']=='canada'])"
   ]
  },
  {
   "cell_type": "code",
   "execution_count": 7,
   "metadata": {},
   "outputs": [],
   "source": [
    "counts = counts[counts['year'] >= 2012]\n",
    "counts = counts[counts['year'] <= 2013]\n",
    "#counts"
   ]
  },
  {
   "cell_type": "code",
   "execution_count": 8,
   "metadata": {},
   "outputs": [
    {
     "data": {
      "text/html": [
       "<div>\n",
       "<style scoped>\n",
       "    .dataframe tbody tr th:only-of-type {\n",
       "        vertical-align: middle;\n",
       "    }\n",
       "\n",
       "    .dataframe tbody tr th {\n",
       "        vertical-align: top;\n",
       "    }\n",
       "\n",
       "    .dataframe thead th {\n",
       "        text-align: right;\n",
       "    }\n",
       "</style>\n",
       "<table border=\"1\" class=\"dataframe\">\n",
       "  <thead>\n",
       "    <tr style=\"text-align: right;\">\n",
       "      <th></th>\n",
       "      <th>date</th>\n",
       "      <th>subreddit</th>\n",
       "      <th>comment_count</th>\n",
       "      <th>year</th>\n",
       "      <th>dayofweek</th>\n",
       "    </tr>\n",
       "  </thead>\n",
       "  <tbody>\n",
       "    <tr>\n",
       "      <th>66</th>\n",
       "      <td>2013-03-14</td>\n",
       "      <td>canada</td>\n",
       "      <td>1657</td>\n",
       "      <td>2013</td>\n",
       "      <td>3</td>\n",
       "    </tr>\n",
       "    <tr>\n",
       "      <th>69</th>\n",
       "      <td>2013-07-08</td>\n",
       "      <td>canada</td>\n",
       "      <td>1369</td>\n",
       "      <td>2013</td>\n",
       "      <td>0</td>\n",
       "    </tr>\n",
       "    <tr>\n",
       "      <th>97</th>\n",
       "      <td>2012-07-04</td>\n",
       "      <td>canada</td>\n",
       "      <td>1343</td>\n",
       "      <td>2012</td>\n",
       "      <td>2</td>\n",
       "    </tr>\n",
       "    <tr>\n",
       "      <th>115</th>\n",
       "      <td>2013-03-11</td>\n",
       "      <td>canada</td>\n",
       "      <td>1619</td>\n",
       "      <td>2013</td>\n",
       "      <td>0</td>\n",
       "    </tr>\n",
       "    <tr>\n",
       "      <th>165</th>\n",
       "      <td>2013-09-11</td>\n",
       "      <td>canada</td>\n",
       "      <td>1909</td>\n",
       "      <td>2013</td>\n",
       "      <td>2</td>\n",
       "    </tr>\n",
       "    <tr>\n",
       "      <th>...</th>\n",
       "      <td>...</td>\n",
       "      <td>...</td>\n",
       "      <td>...</td>\n",
       "      <td>...</td>\n",
       "      <td>...</td>\n",
       "    </tr>\n",
       "    <tr>\n",
       "      <th>15389</th>\n",
       "      <td>2013-01-01</td>\n",
       "      <td>canada</td>\n",
       "      <td>2113</td>\n",
       "      <td>2013</td>\n",
       "      <td>1</td>\n",
       "    </tr>\n",
       "    <tr>\n",
       "      <th>15413</th>\n",
       "      <td>2013-07-27</td>\n",
       "      <td>canada</td>\n",
       "      <td>1070</td>\n",
       "      <td>2013</td>\n",
       "      <td>5</td>\n",
       "    </tr>\n",
       "    <tr>\n",
       "      <th>15430</th>\n",
       "      <td>2012-10-19</td>\n",
       "      <td>canada</td>\n",
       "      <td>1486</td>\n",
       "      <td>2012</td>\n",
       "      <td>4</td>\n",
       "    </tr>\n",
       "    <tr>\n",
       "      <th>15456</th>\n",
       "      <td>2012-01-15</td>\n",
       "      <td>canada</td>\n",
       "      <td>1256</td>\n",
       "      <td>2012</td>\n",
       "      <td>6</td>\n",
       "    </tr>\n",
       "    <tr>\n",
       "      <th>15469</th>\n",
       "      <td>2012-01-02</td>\n",
       "      <td>canada</td>\n",
       "      <td>1127</td>\n",
       "      <td>2012</td>\n",
       "      <td>0</td>\n",
       "    </tr>\n",
       "  </tbody>\n",
       "</table>\n",
       "<p>731 rows × 5 columns</p>\n",
       "</div>"
      ],
      "text/plain": [
       "            date subreddit  comment_count  year  dayofweek\n",
       "66    2013-03-14    canada           1657  2013          3\n",
       "69    2013-07-08    canada           1369  2013          0\n",
       "97    2012-07-04    canada           1343  2012          2\n",
       "115   2013-03-11    canada           1619  2013          0\n",
       "165   2013-09-11    canada           1909  2013          2\n",
       "...          ...       ...            ...   ...        ...\n",
       "15389 2013-01-01    canada           2113  2013          1\n",
       "15413 2013-07-27    canada           1070  2013          5\n",
       "15430 2012-10-19    canada           1486  2012          4\n",
       "15456 2012-01-15    canada           1256  2012          6\n",
       "15469 2012-01-02    canada           1127  2012          0\n",
       "\n",
       "[731 rows x 5 columns]"
      ]
     },
     "execution_count": 8,
     "metadata": {},
     "output_type": "execute_result"
    }
   ],
   "source": [
    "counts['dayofweek'] = counts['date'].dt.weekday\n",
    "counts"
   ]
  },
  {
   "cell_type": "code",
   "execution_count": 9,
   "metadata": {},
   "outputs": [],
   "source": [
    "weekends=counts[(counts['dayofweek']).isin([5,6])]\n"
   ]
  },
  {
   "cell_type": "code",
   "execution_count": 10,
   "metadata": {},
   "outputs": [],
   "source": [
    "weekends = weekends.reset_index(drop=True)"
   ]
  },
  {
   "cell_type": "code",
   "execution_count": 11,
   "metadata": {},
   "outputs": [],
   "source": [
    "#weekends"
   ]
  },
  {
   "cell_type": "code",
   "execution_count": 12,
   "metadata": {},
   "outputs": [],
   "source": [
    "weekdays=counts[~((counts['dayofweek']).isin([5,6]))]"
   ]
  },
  {
   "cell_type": "code",
   "execution_count": 13,
   "metadata": {},
   "outputs": [],
   "source": [
    "weekdays = weekdays.reset_index(drop=True)"
   ]
  },
  {
   "cell_type": "code",
   "execution_count": 14,
   "metadata": {},
   "outputs": [],
   "source": [
    "#weekdays"
   ]
  },
  {
   "cell_type": "code",
   "execution_count": null,
   "metadata": {},
   "outputs": [],
   "source": []
  },
  {
   "cell_type": "code",
   "execution_count": null,
   "metadata": {},
   "outputs": [],
   "source": []
  },
  {
   "cell_type": "code",
   "execution_count": 15,
   "metadata": {},
   "outputs": [],
   "source": [
    "#Tests without transformation \n",
    "ttest=stats.ttest_ind(weekdays['comment_count'], weekends['comment_count'] ).pvalue\n",
    "levenetest=stats.levene(weekdays['comment_count'], weekends['comment_count']).pvalue\n",
    "weekdaysnormal=stats.normaltest(weekdays['comment_count']).pvalue\n",
    "weekendsnormal=stats.normaltest(weekends['comment_count']).pvalue"
   ]
  },
  {
   "cell_type": "code",
   "execution_count": 16,
   "metadata": {},
   "outputs": [],
   "source": [
    "#Transformations"
   ]
  },
  {
   "cell_type": "code",
   "execution_count": 17,
   "metadata": {},
   "outputs": [
    {
     "data": {
      "text/plain": [
       "0.0004190759393372205"
      ]
     },
     "execution_count": 17,
     "metadata": {},
     "output_type": "execute_result"
    }
   ],
   "source": [
    "#Logarithmic\n",
    "weekdaysnormal_log = stats.normaltest(np.log(weekdays['comment_count'])).pvalue\n",
    "weekendsnormal_log= stats.normaltest(np.log(weekends['comment_count'])).pvalue\n",
    "levenetest_log = stats.levene(np.log(weekdays['comment_count']),np.log(weekends['comment_count'])).pvalue\n",
    "levenetest_log"
   ]
  },
  {
   "cell_type": "code",
   "execution_count": null,
   "metadata": {},
   "outputs": [],
   "source": []
  },
  {
   "cell_type": "code",
   "execution_count": 18,
   "metadata": {},
   "outputs": [
    {
     "data": {
      "text/plain": [
       "0.5560544297516696"
      ]
     },
     "execution_count": 18,
     "metadata": {},
     "output_type": "execute_result"
    }
   ],
   "source": [
    "#square root\n",
    "weekdaysnormal_sqrt = stats.normaltest(np.sqrt(weekdays['comment_count'])).pvalue\n",
    "weekendsnormal_sqrt= stats.normaltest(np.sqrt(weekends['comment_count'])).pvalue\n",
    "levenetest_sqrt = stats.levene(np.sqrt(weekdays['comment_count']),np.sqrt(weekends['comment_count'])).pvalue\n",
    "levenetest_sqrt"
   ]
  },
  {
   "cell_type": "code",
   "execution_count": 19,
   "metadata": {},
   "outputs": [
    {
     "data": {
      "text/plain": [
       "7.391434727467261e-08"
      ]
     },
     "execution_count": 19,
     "metadata": {},
     "output_type": "execute_result"
    }
   ],
   "source": [
    "#square\n",
    "levenetest_square=stats.levene(weekdays['comment_count']**2, weekends['comment_count']**2).pvalue\n",
    "weekdaysnormal_square=stats.normaltest(weekdays['comment_count']**2).pvalue\n",
    "weekendsnormal_square=stats.normaltest(weekends['comment_count']**2).pvalue\n",
    "levenetest_square"
   ]
  },
  {
   "cell_type": "code",
   "execution_count": 20,
   "metadata": {},
   "outputs": [],
   "source": [
    "#Square root transformation is closest to the normal distributions so we pick that one\n",
    "weekends=weekends.drop('year', axis=1)\n",
    "weekdays=weekdays.drop('year', axis=1)\n"
   ]
  },
  {
   "cell_type": "code",
   "execution_count": 21,
   "metadata": {},
   "outputs": [
    {
     "data": {
      "text/html": [
       "<div>\n",
       "<style scoped>\n",
       "    .dataframe tbody tr th:only-of-type {\n",
       "        vertical-align: middle;\n",
       "    }\n",
       "\n",
       "    .dataframe tbody tr th {\n",
       "        vertical-align: top;\n",
       "    }\n",
       "\n",
       "    .dataframe thead th {\n",
       "        text-align: right;\n",
       "    }\n",
       "</style>\n",
       "<table border=\"1\" class=\"dataframe\">\n",
       "  <thead>\n",
       "    <tr style=\"text-align: right;\">\n",
       "      <th></th>\n",
       "      <th>date</th>\n",
       "      <th>subreddit</th>\n",
       "      <th>comment_count</th>\n",
       "      <th>dayofweek</th>\n",
       "    </tr>\n",
       "  </thead>\n",
       "  <tbody>\n",
       "    <tr>\n",
       "      <th>0</th>\n",
       "      <td>2012-02-04</td>\n",
       "      <td>canada</td>\n",
       "      <td>1196</td>\n",
       "      <td>5</td>\n",
       "    </tr>\n",
       "    <tr>\n",
       "      <th>1</th>\n",
       "      <td>2012-11-17</td>\n",
       "      <td>canada</td>\n",
       "      <td>1570</td>\n",
       "      <td>5</td>\n",
       "    </tr>\n",
       "    <tr>\n",
       "      <th>2</th>\n",
       "      <td>2013-07-14</td>\n",
       "      <td>canada</td>\n",
       "      <td>908</td>\n",
       "      <td>6</td>\n",
       "    </tr>\n",
       "    <tr>\n",
       "      <th>3</th>\n",
       "      <td>2013-06-22</td>\n",
       "      <td>canada</td>\n",
       "      <td>984</td>\n",
       "      <td>5</td>\n",
       "    </tr>\n",
       "    <tr>\n",
       "      <th>4</th>\n",
       "      <td>2012-07-29</td>\n",
       "      <td>canada</td>\n",
       "      <td>1199</td>\n",
       "      <td>6</td>\n",
       "    </tr>\n",
       "    <tr>\n",
       "      <th>...</th>\n",
       "      <td>...</td>\n",
       "      <td>...</td>\n",
       "      <td>...</td>\n",
       "      <td>...</td>\n",
       "    </tr>\n",
       "    <tr>\n",
       "      <th>204</th>\n",
       "      <td>2012-11-04</td>\n",
       "      <td>canada</td>\n",
       "      <td>1772</td>\n",
       "      <td>6</td>\n",
       "    </tr>\n",
       "    <tr>\n",
       "      <th>205</th>\n",
       "      <td>2012-12-09</td>\n",
       "      <td>canada</td>\n",
       "      <td>1350</td>\n",
       "      <td>6</td>\n",
       "    </tr>\n",
       "    <tr>\n",
       "      <th>206</th>\n",
       "      <td>2012-12-02</td>\n",
       "      <td>canada</td>\n",
       "      <td>1725</td>\n",
       "      <td>6</td>\n",
       "    </tr>\n",
       "    <tr>\n",
       "      <th>207</th>\n",
       "      <td>2013-07-27</td>\n",
       "      <td>canada</td>\n",
       "      <td>1070</td>\n",
       "      <td>5</td>\n",
       "    </tr>\n",
       "    <tr>\n",
       "      <th>208</th>\n",
       "      <td>2012-01-15</td>\n",
       "      <td>canada</td>\n",
       "      <td>1256</td>\n",
       "      <td>6</td>\n",
       "    </tr>\n",
       "  </tbody>\n",
       "</table>\n",
       "<p>209 rows × 4 columns</p>\n",
       "</div>"
      ],
      "text/plain": [
       "          date subreddit  comment_count  dayofweek\n",
       "0   2012-02-04    canada           1196          5\n",
       "1   2012-11-17    canada           1570          5\n",
       "2   2013-07-14    canada            908          6\n",
       "3   2013-06-22    canada            984          5\n",
       "4   2012-07-29    canada           1199          6\n",
       "..         ...       ...            ...        ...\n",
       "204 2012-11-04    canada           1772          6\n",
       "205 2012-12-09    canada           1350          6\n",
       "206 2012-12-02    canada           1725          6\n",
       "207 2013-07-27    canada           1070          5\n",
       "208 2012-01-15    canada           1256          6\n",
       "\n",
       "[209 rows x 4 columns]"
      ]
     },
     "execution_count": 21,
     "metadata": {},
     "output_type": "execute_result"
    }
   ],
   "source": [
    "weekends"
   ]
  },
  {
   "cell_type": "code",
   "execution_count": 30,
   "metadata": {},
   "outputs": [
    {
     "data": {
      "text/html": [
       "<div>\n",
       "<style scoped>\n",
       "    .dataframe tbody tr th:only-of-type {\n",
       "        vertical-align: middle;\n",
       "    }\n",
       "\n",
       "    .dataframe tbody tr th {\n",
       "        vertical-align: top;\n",
       "    }\n",
       "\n",
       "    .dataframe thead th {\n",
       "        text-align: right;\n",
       "    }\n",
       "</style>\n",
       "<table border=\"1\" class=\"dataframe\">\n",
       "  <thead>\n",
       "    <tr style=\"text-align: right;\">\n",
       "      <th></th>\n",
       "      <th>date</th>\n",
       "      <th>subreddit</th>\n",
       "      <th>comment_count</th>\n",
       "      <th>dayofweek</th>\n",
       "      <th>week</th>\n",
       "    </tr>\n",
       "  </thead>\n",
       "  <tbody>\n",
       "    <tr>\n",
       "      <th>0</th>\n",
       "      <td>2013-03-14</td>\n",
       "      <td>canada</td>\n",
       "      <td>1657</td>\n",
       "      <td>3</td>\n",
       "      <td>11</td>\n",
       "    </tr>\n",
       "    <tr>\n",
       "      <th>1</th>\n",
       "      <td>2013-07-08</td>\n",
       "      <td>canada</td>\n",
       "      <td>1369</td>\n",
       "      <td>0</td>\n",
       "      <td>28</td>\n",
       "    </tr>\n",
       "    <tr>\n",
       "      <th>2</th>\n",
       "      <td>2012-07-04</td>\n",
       "      <td>canada</td>\n",
       "      <td>1343</td>\n",
       "      <td>2</td>\n",
       "      <td>27</td>\n",
       "    </tr>\n",
       "    <tr>\n",
       "      <th>3</th>\n",
       "      <td>2013-03-11</td>\n",
       "      <td>canada</td>\n",
       "      <td>1619</td>\n",
       "      <td>0</td>\n",
       "      <td>11</td>\n",
       "    </tr>\n",
       "    <tr>\n",
       "      <th>4</th>\n",
       "      <td>2013-09-11</td>\n",
       "      <td>canada</td>\n",
       "      <td>1909</td>\n",
       "      <td>2</td>\n",
       "      <td>37</td>\n",
       "    </tr>\n",
       "    <tr>\n",
       "      <th>...</th>\n",
       "      <td>...</td>\n",
       "      <td>...</td>\n",
       "      <td>...</td>\n",
       "      <td>...</td>\n",
       "      <td>...</td>\n",
       "    </tr>\n",
       "    <tr>\n",
       "      <th>517</th>\n",
       "      <td>2013-04-10</td>\n",
       "      <td>canada</td>\n",
       "      <td>2021</td>\n",
       "      <td>2</td>\n",
       "      <td>15</td>\n",
       "    </tr>\n",
       "    <tr>\n",
       "      <th>518</th>\n",
       "      <td>2013-03-19</td>\n",
       "      <td>canada</td>\n",
       "      <td>1630</td>\n",
       "      <td>1</td>\n",
       "      <td>12</td>\n",
       "    </tr>\n",
       "    <tr>\n",
       "      <th>519</th>\n",
       "      <td>2013-01-01</td>\n",
       "      <td>canada</td>\n",
       "      <td>2113</td>\n",
       "      <td>1</td>\n",
       "      <td>1</td>\n",
       "    </tr>\n",
       "    <tr>\n",
       "      <th>520</th>\n",
       "      <td>2012-10-19</td>\n",
       "      <td>canada</td>\n",
       "      <td>1486</td>\n",
       "      <td>4</td>\n",
       "      <td>42</td>\n",
       "    </tr>\n",
       "    <tr>\n",
       "      <th>521</th>\n",
       "      <td>2012-01-02</td>\n",
       "      <td>canada</td>\n",
       "      <td>1127</td>\n",
       "      <td>0</td>\n",
       "      <td>1</td>\n",
       "    </tr>\n",
       "  </tbody>\n",
       "</table>\n",
       "<p>522 rows × 5 columns</p>\n",
       "</div>"
      ],
      "text/plain": [
       "          date subreddit  comment_count  dayofweek week\n",
       "0   2013-03-14    canada           1657          3   11\n",
       "1   2013-07-08    canada           1369          0   28\n",
       "2   2012-07-04    canada           1343          2   27\n",
       "3   2013-03-11    canada           1619          0   11\n",
       "4   2013-09-11    canada           1909          2   37\n",
       "..         ...       ...            ...        ...  ...\n",
       "517 2013-04-10    canada           2021          2   15\n",
       "518 2013-03-19    canada           1630          1   12\n",
       "519 2013-01-01    canada           2113          1    1\n",
       "520 2012-10-19    canada           1486          4   42\n",
       "521 2012-01-02    canada           1127          0    1\n",
       "\n",
       "[522 rows x 5 columns]"
      ]
     },
     "execution_count": 30,
     "metadata": {},
     "output_type": "execute_result"
    }
   ],
   "source": [
    "weekdays"
   ]
  },
  {
   "cell_type": "code",
   "execution_count": 23,
   "metadata": {},
   "outputs": [],
   "source": [
    "\n",
    "weekdays['week'] = weekdays['date'].apply(lambda x: str(x.isocalendar()[1])).apply(pd.Series)\n",
    "weekdays['year']= weekdays['date'].apply(lambda x: str(x.isocalendar()[0])).apply(pd.Series)\n",
    "weekends['week'] = weekends['date'].apply(lambda x: str(x.isocalendar()[1])).apply(pd.Series)\n",
    "weekends['year']= weekends['date'].apply(lambda x: str(x.isocalendar()[0])).apply(pd.Series)"
   ]
  },
  {
   "cell_type": "code",
   "execution_count": null,
   "metadata": {},
   "outputs": [],
   "source": []
  },
  {
   "cell_type": "code",
   "execution_count": null,
   "metadata": {},
   "outputs": [],
   "source": []
  },
  {
   "cell_type": "code",
   "execution_count": 26,
   "metadata": {},
   "outputs": [],
   "source": [
    "weekdays_mean = weekdays.groupby(['year', 'week']).aggregate('mean').reset_index()\n",
    "weekends_mean = weekends.groupby(['year', 'week']).aggregate('mean').reset_index()"
   ]
  },
  {
   "cell_type": "code",
   "execution_count": 27,
   "metadata": {},
   "outputs": [],
   "source": [
    "weekly_weekday_normality_p= stats.normaltest(weekdays_mean['comment_count']).pvalue\n",
    "weekly_weekend_normality_p= stats.normaltest(weekends_mean['comment_count']).pvalue\n",
    "weekly_levene_p = stats.levene(weekdays_mean['comment_count'],weekends_mean['comment_count']).pvalue\n",
    "weekly_ttest_p = stats.ttest_ind(weekdays_mean['comment_count'], weekends_mean['comment_count']).pvalue\n"
   ]
  },
  {
   "cell_type": "code",
   "execution_count": 28,
   "metadata": {},
   "outputs": [],
   "source": [
    "utest_p= stats.mannwhitneyu(weekdays['comment_count'],weekends['comment_count'], alternative= 'two-sided').pvalue"
   ]
  },
  {
   "cell_type": "code",
   "execution_count": 29,
   "metadata": {},
   "outputs": [
    {
     "data": {
      "text/plain": [
       "1.3353656052303141e-34"
      ]
     },
     "execution_count": 29,
     "metadata": {},
     "output_type": "execute_result"
    }
   ],
   "source": [
    "weekly_ttest_p"
   ]
  },
  {
   "cell_type": "code",
   "execution_count": 30,
   "metadata": {},
   "outputs": [
    {
     "data": {
      "text/plain": [
       "0.20383788083573426"
      ]
     },
     "execution_count": 30,
     "metadata": {},
     "output_type": "execute_result"
    }
   ],
   "source": [
    "weekly_levene_p"
   ]
  },
  {
   "cell_type": "code",
   "execution_count": null,
   "metadata": {},
   "outputs": [],
   "source": []
  },
  {
   "cell_type": "code",
   "execution_count": null,
   "metadata": {},
   "outputs": [],
   "source": []
  }
 ],
 "metadata": {
  "kernelspec": {
   "display_name": "Python 3",
   "language": "python",
   "name": "python3"
  },
  "language_info": {
   "codemirror_mode": {
    "name": "ipython",
    "version": 3
   },
   "file_extension": ".py",
   "mimetype": "text/x-python",
   "name": "python",
   "nbconvert_exporter": "python",
   "pygments_lexer": "ipython3",
   "version": "3.8.3"
  }
 },
 "nbformat": 4,
 "nbformat_minor": 4
}

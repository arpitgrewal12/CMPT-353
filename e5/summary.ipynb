{
 "cells": [
  {
   "cell_type": "code",
   "execution_count": 1,
   "metadata": {},
   "outputs": [],
   "source": [
    "import numpy as np\n",
    "import pandas as pd\n",
    "import matplotlib.pyplot as plt"
   ]
  },
  {
   "cell_type": "code",
   "execution_count": 2,
   "metadata": {},
   "outputs": [],
   "source": [
    "data1=pd.read_csv('data-1.csv')\n",
    "data2=pd.read_csv('data-2.csv')\n",
    "data3=pd.read_csv('data-3.csv')\n",
    "data4=pd.read_csv('data-4.csv')\n",
    "data5=pd.read_csv('data-5.csv')\n",
    "data6=pd.read_csv('data-6.csv')"
   ]
  },
  {
   "cell_type": "code",
   "execution_count": 3,
   "metadata": {},
   "outputs": [],
   "source": [
    "df1 = pd.DataFrame.from_dict(data1)\n",
    "df2 = pd.DataFrame.from_dict(data2)\n",
    "df3 = pd.DataFrame.from_dict(data3)\n",
    "df4 = pd.DataFrame.from_dict(data4)\n",
    "df5 = pd.DataFrame.from_dict(data5)\n",
    "df6 = pd.DataFrame.from_dict(data6)\n"
   ]
  },
  {
   "cell_type": "code",
   "execution_count": 44,
   "metadata": {},
   "outputs": [],
   "source": [
    "meanx1 = df1['x'].mean()\n",
    "meany1 = df1['y'].mean()\n",
    "meanx2 = df2['x'].mean()\n",
    "meany2 = df2['y'].mean()\n",
    "meanx3 = df3['x'].mean()\n",
    "meany3 = df3['y'].mean()\n",
    "meanx4 = df4['x'].mean()\n",
    "meany4 = df4['y'].mean()\n",
    "meanx5 = df5['x'].mean()\n",
    "meany5 = df5['y'].mean()\n",
    "meanx6 = df6['x'].mean()\n",
    "meany6 = df6['y'].mean()\n"
   ]
  },
  {
   "cell_type": "code",
   "execution_count": 45,
   "metadata": {},
   "outputs": [],
   "source": [
    "a1=[df1['x'].min(),df1['x'].max()]\n",
    "a2=[df2['x'].min(),df2['x'].max()]\n",
    "a3=[df3['x'].min(),df3['x'].max()]\n",
    "a4=[df4['x'].min(),df4['x'].max()]\n",
    "a5=[df5['x'].min(),df5['x'].max()]\n",
    "a6=[df6['x'].min(),df6['x'].max()]"
   ]
  },
  {
   "cell_type": "code",
   "execution_count": 46,
   "metadata": {},
   "outputs": [],
   "source": [
    "b1=[df1['y'].min(),df1['y'].max()]\n",
    "b2=[df2['y'].min(),df2['y'].max()]\n",
    "b3=[df3['y'].min(),df3['y'].max()]\n",
    "b4=[df4['y'].min(),df4['y'].max()]\n",
    "b5=[df5['y'].min(),df5['y'].max()]\n",
    "b6=[df6['y'].min(),df6['y'].max()]\n"
   ]
  },
  {
   "cell_type": "code",
   "execution_count": 47,
   "metadata": {},
   "outputs": [],
   "source": [
    "c1=data1.corr()['x']['y']\n",
    "c2=data2.corr()['x']['y']\n",
    "c3=data3.corr()['x']['y']\n",
    "c4=data4.corr()['x']['y']\n",
    "c5=data5.corr()['x']['y']\n",
    "c6=data6.corr()['x']['y']\n"
   ]
  },
  {
   "cell_type": "code",
   "execution_count": 48,
   "metadata": {},
   "outputs": [],
   "source": [
    "s1=data1['x'].describe().loc['std']\n",
    "s2=data2['x'].describe().loc['std']\n",
    "s3=data3['x'].describe().loc['std']\n",
    "s4=data4['x'].describe().loc['std']\n",
    "s5=data5['x'].describe().loc['std']\n",
    "s6=data6['x'].describe().loc['std']"
   ]
  },
  {
   "cell_type": "code",
   "execution_count": 49,
   "metadata": {},
   "outputs": [],
   "source": [
    "t1=data1['y'].describe().loc['std']\n",
    "t2=data2['y'].describe().loc['std']\n",
    "t3=data3['y'].describe().loc['std']\n",
    "t4=data4['y'].describe().loc['std']\n",
    "t5=data5['y'].describe().loc['std']\n",
    "t6=data6['y'].describe().loc['std']\n"
   ]
  },
  {
   "cell_type": "code",
   "execution_count": 50,
   "metadata": {
    "scrolled": true
   },
   "outputs": [
    {
     "data": {
      "text/html": [
       "<div>\n",
       "<style scoped>\n",
       "    .dataframe tbody tr th:only-of-type {\n",
       "        vertical-align: middle;\n",
       "    }\n",
       "\n",
       "    .dataframe tbody tr th {\n",
       "        vertical-align: top;\n",
       "    }\n",
       "\n",
       "    .dataframe thead th {\n",
       "        text-align: right;\n",
       "    }\n",
       "</style>\n",
       "<table border=\"1\" class=\"dataframe\">\n",
       "  <thead>\n",
       "    <tr style=\"text-align: right;\">\n",
       "      <th></th>\n",
       "      <th>Mean of x values</th>\n",
       "      <th>Mean of y values</th>\n",
       "      <th>Range of x values</th>\n",
       "      <th>Range of y values</th>\n",
       "      <th>Correlation Coefficient</th>\n",
       "      <th>Standard deviation of x values</th>\n",
       "      <th>Standard deviation of y values</th>\n",
       "    </tr>\n",
       "    <tr>\n",
       "      <th>Datafile</th>\n",
       "      <th></th>\n",
       "      <th></th>\n",
       "      <th></th>\n",
       "      <th></th>\n",
       "      <th></th>\n",
       "      <th></th>\n",
       "      <th></th>\n",
       "    </tr>\n",
       "  </thead>\n",
       "  <tbody>\n",
       "    <tr>\n",
       "      <th>Data1</th>\n",
       "      <td>8.717696</td>\n",
       "      <td>12.522874</td>\n",
       "      <td>[-22.635877790008944, 35.23705548785129]</td>\n",
       "      <td>[-2.5650878326932127, 27.38415261152477]</td>\n",
       "      <td>0.950326</td>\n",
       "      <td>12.155517</td>\n",
       "      <td>6.639964</td>\n",
       "    </tr>\n",
       "    <tr>\n",
       "      <th>Data2</th>\n",
       "      <td>-0.710787</td>\n",
       "      <td>-0.748987</td>\n",
       "      <td>[-33.2711130771198, 27.6470003722073]</td>\n",
       "      <td>[-18.621803760419066, 14.147314992317481]</td>\n",
       "      <td>0.955153</td>\n",
       "      <td>11.481584</td>\n",
       "      <td>6.257918</td>\n",
       "    </tr>\n",
       "    <tr>\n",
       "      <th>Data3</th>\n",
       "      <td>0.968907</td>\n",
       "      <td>8.508535</td>\n",
       "      <td>[-2.4490643296742807, 4.51888491755363]</td>\n",
       "      <td>[6.641734490391762, 10.551871022804317]</td>\n",
       "      <td>0.981937</td>\n",
       "      <td>2.235558</td>\n",
       "      <td>1.149301</td>\n",
       "    </tr>\n",
       "    <tr>\n",
       "      <th>Data4</th>\n",
       "      <td>49.905086</td>\n",
       "      <td>18.553837</td>\n",
       "      <td>[0.0, 87.3767]</td>\n",
       "      <td>[0.0, 44.56504]</td>\n",
       "      <td>-0.081193</td>\n",
       "      <td>28.508611</td>\n",
       "      <td>16.545896</td>\n",
       "    </tr>\n",
       "    <tr>\n",
       "      <th>Data5</th>\n",
       "      <td>49.909994</td>\n",
       "      <td>18.555525</td>\n",
       "      <td>[4.337892453674525, 91.0528633396976]</td>\n",
       "      <td>[0.05549750758115175, 49.93419703633311]</td>\n",
       "      <td>-0.088236</td>\n",
       "      <td>28.500001</td>\n",
       "      <td>16.540796</td>\n",
       "    </tr>\n",
       "    <tr>\n",
       "      <th>Data6</th>\n",
       "      <td>7.216155</td>\n",
       "      <td>7.602215</td>\n",
       "      <td>[-24.33382075234097, 35.402138910929]</td>\n",
       "      <td>[-22.9563569970746, 36.07987403078143]</td>\n",
       "      <td>0.935069</td>\n",
       "      <td>11.921599</td>\n",
       "      <td>11.764382</td>\n",
       "    </tr>\n",
       "  </tbody>\n",
       "</table>\n",
       "</div>"
      ],
      "text/plain": [
       "          Mean of x values  Mean of y values  \\\n",
       "Datafile                                       \n",
       "Data1             8.717696         12.522874   \n",
       "Data2            -0.710787         -0.748987   \n",
       "Data3             0.968907          8.508535   \n",
       "Data4            49.905086         18.553837   \n",
       "Data5            49.909994         18.555525   \n",
       "Data6             7.216155          7.602215   \n",
       "\n",
       "                                 Range of x values  \\\n",
       "Datafile                                             \n",
       "Data1     [-22.635877790008944, 35.23705548785129]   \n",
       "Data2        [-33.2711130771198, 27.6470003722073]   \n",
       "Data3      [-2.4490643296742807, 4.51888491755363]   \n",
       "Data4                               [0.0, 87.3767]   \n",
       "Data5        [4.337892453674525, 91.0528633396976]   \n",
       "Data6        [-24.33382075234097, 35.402138910929]   \n",
       "\n",
       "                                  Range of y values  Correlation Coefficient  \\\n",
       "Datafile                                                                       \n",
       "Data1      [-2.5650878326932127, 27.38415261152477]                 0.950326   \n",
       "Data2     [-18.621803760419066, 14.147314992317481]                 0.955153   \n",
       "Data3       [6.641734490391762, 10.551871022804317]                 0.981937   \n",
       "Data4                               [0.0, 44.56504]                -0.081193   \n",
       "Data5      [0.05549750758115175, 49.93419703633311]                -0.088236   \n",
       "Data6        [-22.9563569970746, 36.07987403078143]                 0.935069   \n",
       "\n",
       "          Standard deviation of x values  Standard deviation of y values  \n",
       "Datafile                                                                  \n",
       "Data1                          12.155517                        6.639964  \n",
       "Data2                          11.481584                        6.257918  \n",
       "Data3                           2.235558                        1.149301  \n",
       "Data4                          28.508611                       16.545896  \n",
       "Data5                          28.500001                       16.540796  \n",
       "Data6                          11.921599                       11.764382  "
      ]
     },
     "execution_count": 50,
     "metadata": {},
     "output_type": "execute_result"
    }
   ],
   "source": [
    "data = {'Datafile':[\"Data1\",\"Data2\",\"Data3\",\"Data4\",\"Data5\",\"Data6\"],\n",
    "        'Mean of x values':[meanx1,meanx2,meanx3,meanx4,meanx5,meanx6], \n",
    "        'Mean of y values':[meany1,meany2,meany3,meany4,meany5,meany6],\n",
    "        'Range of x values':[a1,a2,a3,a4,a5,a6],\n",
    "        'Range of y values':[b1,b2,b3,b4,b5,b6],\n",
    "        'Correlation Coefficient':[c1,c2,c3,c4,c5,c6],\n",
    "        'Standard deviation of x values':[s1,s2,s3,s4,s5,s6],\n",
    "        'Standard deviation of y values':[t1,t2,t3,t4,t5,t6]\n",
    "       }\n",
    "\n",
    "df = pd.DataFrame(data).set_index('Datafile')\n",
    "df"
   ]
  },
  {
   "cell_type": "code",
   "execution_count": null,
   "metadata": {
    "scrolled": true
   },
   "outputs": [],
   "source": []
  },
  {
   "cell_type": "code",
   "execution_count": 43,
   "metadata": {},
   "outputs": [
    {
     "data": {
      "image/png": "[encoded data removed]",
      "text/plain": [
       "<Figure size 432x288 with 1 Axes>"
      ]
     },
     "metadata": {
      "needs_background": "light"
     },
     "output_type": "display_data"
    }
   ],
   "source": [
    "plt.plot(data1['x'],data1['y'],'r.')\n",
    "plt.show()"
   ]
  },
  {
   "cell_type": "code",
   "execution_count": 36,
   "metadata": {},
   "outputs": [
    {
     "data": {
      "image/png": "[encoded data removed]",
      "text/plain": [
       "<Figure size 432x288 with 1 Axes>"
      ]
     },
     "metadata": {
      "needs_background": "light"
     },
     "output_type": "display_data"
    }
   ],
   "source": [
    "plt.plot(data2['x'],data2['y'],'r.')\n",
    "plt.show()"
   ]
  },
  {
   "cell_type": "code",
   "execution_count": 37,
   "metadata": {},
   "outputs": [
    {
     "data": {
      "image/png": "[encoded data removed]",
      "text/plain": [
       "<Figure size 432x288 with 1 Axes>"
      ]
     },
     "metadata": {
      "needs_background": "light"
     },
     "output_type": "display_data"
    }
   ],
   "source": [
    "plt.plot(data3['x'],data3['y'],'r.')\n",
    "plt.show()"
   ]
  },
  {
   "cell_type": "code",
   "execution_count": 38,
   "metadata": {},
   "outputs": [
    {
     "data": {
      "image/png": "[encoded data removed]",
      "text/plain": [
       "<Figure size 432x288 with 1 Axes>"
      ]
     },
     "metadata": {
      "needs_background": "light"
     },
     "output_type": "display_data"
    }
   ],
   "source": [
    "plt.plot(data4['x'],data4['y'],'r.')\n",
    "plt.show()\n"
   ]
  },
  {
   "cell_type": "code",
   "execution_count": 39,
   "metadata": {},
   "outputs": [
    {
     "data": {
      "image/png": "[encoded data removed]",
      "text/plain": [
       "<Figure size 432x288 with 1 Axes>"
      ]
     },
     "metadata": {
      "needs_background": "light"
     },
     "output_type": "display_data"
    }
   ],
   "source": [
    "plt.plot(data5['x'],data5['y'],'r.')\n",
    "plt.show()"
   ]
  },
  {
   "cell_type": "code",
   "execution_count": 40,
   "metadata": {},
   "outputs": [
    {
     "data": {
      "text/plain": [
       "[<matplotlib.lines.Line2D at 0x106a0f9a0>]"
      ]
     },
     "execution_count": 40,
     "metadata": {},
     "output_type": "execute_result"
    },
    {
     "data": {
      "image/png": "[encoded data removed]",
      "text/plain": [
       "<Figure size 432x288 with 1 Axes>"
      ]
     },
     "metadata": {
      "needs_background": "light"
     },
     "output_type": "display_data"
    }
   ],
   "source": [
    "plt.plot(data6['x'],data6['y'],'r.')"
   ]
  },
  {
   "cell_type": "code",
   "execution_count": null,
   "metadata": {},
   "outputs": [],
   "source": []
  },
  {
   "cell_type": "code",
   "execution_count": null,
   "metadata": {},
   "outputs": [],
   "source": []
  },
  {
   "cell_type": "code",
   "execution_count": null,
   "metadata": {},
   "outputs": [],
   "source": []
  }
 ],
 "metadata": {
  "kernelspec": {
   "display_name": "Python 3",
   "language": "python",
   "name": "python3"
  },
  "language_info": {
   "codemirror_mode": {
    "name": "ipython",
    "version": 3
   },
   "file_extension": ".py",
   "mimetype": "text/x-python",
   "name": "python",
   "nbconvert_exporter": "python",
   "pygments_lexer": "ipython3",
   "version": "3.8.3"
  }
 },
 "nbformat": 4,
 "nbformat_minor": 4
}

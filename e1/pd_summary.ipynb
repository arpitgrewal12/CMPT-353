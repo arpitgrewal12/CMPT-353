{
 "cells": [
  {
   "cell_type": "code",
   "execution_count": 1,
   "metadata": {},
   "outputs": [],
   "source": [
    "#GETTING STARTED WITH PANDAS\n",
    "import pandas as pd"
   ]
  },
  {
   "cell_type": "code",
   "execution_count": 7,
   "metadata": {},
   "outputs": [],
   "source": [
    "totals=pd.read_csv('totals.csv').set_index(keys=['name'])"
   ]
  },
  {
   "cell_type": "code",
   "execution_count": 6,
   "metadata": {},
   "outputs": [],
   "source": [
    "counts=pd.read_csv('counts.csv').set_index(keys=['name'])"
   ]
  },
  {
   "cell_type": "code",
   "execution_count": 9,
   "metadata": {},
   "outputs": [
    {
     "name": "stdout",
     "output_type": "stream",
     "text": [
      "Row having lowest precipitation among cities:\n",
      "YELLOWKNIFE A\n"
     ]
    }
   ],
   "source": [
    "#ROW NUMBER OF CITY HAVING LOWEST PRECIPITATION \n",
    "city_precipitation=totals.sum(axis=1)\n",
    "lowest_city_precipitation=city_precipitation.idxmin(axis=1)\n",
    "print(\"Row having lowest precipitation among cities:\")\n",
    "print(lowest_city_precipitation)"
   ]
  },
  {
   "cell_type": "code",
   "execution_count": 10,
   "metadata": {},
   "outputs": [
    {
     "name": "stdout",
     "output_type": "stream",
     "text": [
      "Average precipitation for each month:\n",
      "2016-01    27.779783\n",
      "2016-02    30.426295\n",
      "2016-03    29.410072\n",
      "2016-04    17.966543\n",
      "2016-05    21.344569\n",
      "2016-06    20.694981\n",
      "2016-07    24.977186\n",
      "2016-08    19.856618\n",
      "2016-09    24.065637\n",
      "2016-10    44.684411\n",
      "2016-11    34.615686\n",
      "2016-12    32.366795\n",
      "dtype: float64\n"
     ]
    }
   ],
   "source": [
    "#AVERAGE PRECIPITATION IN THE LOCATIONS FOR EACH MONTH\n",
    "month_precipitation=totals.sum(axis=0)\n",
    "month_observations=counts.sum(axis=0)\n",
    "average_month_precipitation=month_precipitation/month_observations\n",
    "print(\"Average precipitation for each month:\")\n",
    "print(average_month_precipitation)"
   ]
  },
  {
   "cell_type": "code",
   "execution_count": 11,
   "metadata": {},
   "outputs": [
    {
     "name": "stdout",
     "output_type": "stream",
     "text": [
      "Average precipitation for each city:\n",
      "name\n",
      "BURNABY SIMON FRASER U            47.778598\n",
      "CALGARY INTL A                    14.333333\n",
      "GANDER INTL A                     39.912329\n",
      "HALIFAX INTL A                    41.445055\n",
      "REVELSTOKE                        23.409972\n",
      "SHERBROOKE                        23.681440\n",
      "TORONTO LESTER B. PEARSON INT'    17.521978\n",
      "VANCOUVER INTL A                  36.522222\n",
      "YELLOWKNIFE A                      6.154270\n",
      "dtype: float64\n"
     ]
    }
   ],
   "source": [
    "#AVERAGE PRECIPITATION FOR EACH CITY\n",
    "city_observations=counts.sum(axis=1)\n",
    "average_city_precipitation=city_precipitation/city_observations\n",
    "print(\"Average precipitation for each city:\")\n",
    "print(average_city_precipitation)"
   ]
  },
  {
   "cell_type": "code",
   "execution_count": null,
   "metadata": {},
   "outputs": [],
   "source": []
  }
 ],
 "metadata": {
  "kernelspec": {
   "display_name": "Python 3",
   "language": "python",
   "name": "python3"
  },
  "language_info": {
   "codemirror_mode": {
    "name": "ipython",
    "version": 3
   },
   "file_extension": ".py",
   "mimetype": "text/x-python",
   "name": "python",
   "nbconvert_exporter": "python",
   "pygments_lexer": "ipython3",
   "version": "3.8.3"
  }
 },
 "nbformat": 4,
 "nbformat_minor": 4
}

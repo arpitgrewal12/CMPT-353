{
 "cells": [
  {
   "cell_type": "code",
   "execution_count": 1,
   "metadata": {},
   "outputs": [],
   "source": [
    "#ANALYSIS WITH PANDAS"
   ]
  },
  {
   "cell_type": "code",
   "execution_count": 2,
   "metadata": {},
   "outputs": [],
   "source": [
    "import numpy as np\n",
    "import pandas as pd"
   ]
  },
  {
   "cell_type": "code",
   "execution_count": 42,
   "metadata": {},
   "outputs": [],
   "source": [
    "precipitation_data= pd.read_csv('precipitation.csv', parse_dates=[2])\n",
    "def get_precip_data():\n",
    "    return precipitation_data\n",
    "#precipitation_data"
   ]
  },
  {
   "cell_type": "code",
   "execution_count": 41,
   "metadata": {
    "scrolled": true
   },
   "outputs": [],
   "source": [
    "def date_to_month(d):\n",
    "    extracted=pd.to_datetime(d).dt.to_period('M')\n",
    "    return extracted"
   ]
  },
  {
   "cell_type": "code",
   "execution_count": 5,
   "metadata": {},
   "outputs": [],
   "source": [
    "def pivot_months_pandas(data):\n",
    "    \"\"\"\n",
    "    Create monthly precipitation totals for each station in the data set.\n",
    "    \n",
    "    This should use Pandas methods to manipulate the data.\n",
    "    \"\"\"\n",
    "    data['month'] = date_to_month(data['date'])\n",
    " \n",
    "    sums = data.groupby(['month', 'name']).aggregate('sum').reset_index()\n",
    "    monthly = sums.pivot(index='name', columns='month',values='precipitation')\n",
    "    \n",
    "    countings = data.groupby(['month', 'name']).aggregate('count').reset_index()\n",
    "    counts = countings.pivot(index='name', columns='month',values='precipitation')\n",
    "    \n",
    "    return monthly, counts\n",
    "\n"
   ]
  },
  {
   "cell_type": "code",
   "execution_count": 6,
   "metadata": {},
   "outputs": [],
   "source": [
    "def pivot_months_loops(data):\n",
    "    \"\"\"\n",
    "    Create monthly precipitation totals for each station in the data set.\n",
    "    \n",
    "    This does it the hard way: using Pandas as a dumb data store, and iterating in Python.\n",
    "    \"\"\"\n",
    "    # Find all stations and months in the data set.\n",
    "    stations = set()\n",
    "    months = set()\n",
    "    for i,r in data.iterrows():\n",
    "        stations.add(r['name'])\n",
    "        m = date_to_month(r['date'])\n",
    "        months.add(m)\n",
    "\n",
    "    # Aggregate into dictionaries so we can look up later.\n",
    "    stations = sorted(list(stations))\n",
    "    row_to_station = dict(enumerate(stations))\n",
    "    station_to_row = {s: i for i,s in row_to_station.items()}\n",
    "    \n",
    "    months = sorted(list(months))\n",
    "    col_to_month = dict(enumerate(months))\n",
    "    month_to_col = {m: i for i,m in col_to_month.items()}\n",
    "\n",
    "    # Create arrays for the data, and fill them.\n",
    "    precip_total = np.zeros((len(row_to_station), 12), dtype=np.uint)\n",
    "    obs_count = np.zeros((len(row_to_station), 12), dtype=np.uint)\n",
    "\n",
    "    for _, row in data.iterrows():\n",
    "        m = date_to_month(row['date'])\n",
    "        r = station_to_row[row['name']]\n",
    "        c = month_to_col[m]\n",
    "\n",
    "        precip_total[r, c] += row['precipitation']\n",
    "        obs_count[r, c] += 1\n",
    "\n",
    "    # Build the DataFrames we needed all along (tidying up the index names while we're at it).\n",
    "    totals = pd.DataFrame(\n",
    "        data=precip_total,\n",
    "        index=stations,\n",
    "        columns=months,\n",
    "    )\n",
    "    totals.index.name = 'name'\n",
    "    totals.columns.name = 'month'\n",
    "    \n",
    "    counts = pd.DataFrame(\n",
    "        data=obs_count,\n",
    "        index=stations,\n",
    "        columns=months,\n",
    "    )\n",
    "    counts.index.name = 'name'\n",
    "    counts.columns.name = 'month'\n",
    "    \n",
    "    return totals, counts\n",
    "\n"
   ]
  },
  {
   "cell_type": "code",
   "execution_count": 7,
   "metadata": {},
   "outputs": [],
   "source": [
    "def main():\n",
    "    data = get_precip_data()\n",
    "    totals, counts = pivot_months_loops(data)\n",
    "    totals.to_csv('totals.csv')\n",
    "    counts.to_csv('counts.csv')\n",
    "    np.savez('monthdata.npz', totals=totals.values, counts=counts.values)\n",
    "\n",
    "\n"
   ]
  },
  {
   "cell_type": "code",
   "execution_count": null,
   "metadata": {},
   "outputs": [],
   "source": [
    "if __name__ == '__main__':\n",
    "    main()"
   ]
  }
 ],
 "metadata": {
  "kernelspec": {
   "display_name": "Python 3",
   "language": "python",
   "name": "python3"
  },
  "language_info": {
   "codemirror_mode": {
    "name": "ipython",
    "version": 3
   },
   "file_extension": ".py",
   "mimetype": "text/x-python",
   "name": "python",
   "nbconvert_exporter": "python",
   "pygments_lexer": "ipython3",
   "version": "3.8.3"
  }
 },
 "nbformat": 4,
 "nbformat_minor": 4
}
